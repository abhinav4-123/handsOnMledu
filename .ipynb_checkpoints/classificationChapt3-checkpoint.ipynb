{
 "cells": [
  {
   "cell_type": "code",
   "execution_count": 1,
   "id": "b8e304fe-3e5b-40a7-81e8-940273444eec",
   "metadata": {},
   "outputs": [],
   "source": [
    "# so among the most common supervised learning tasks, after regression(can use many different algorithms), here comes \n",
    "# classification systems"
   ]
  },
  {
   "cell_type": "code",
   "execution_count": 2,
   "id": "463d99ae-13cc-46b3-a83f-8327e74673cd",
   "metadata": {},
   "outputs": [],
   "source": [
    "# MNIST DATASET"
   ]
  },
  {
   "cell_type": "code",
   "execution_count": 3,
   "id": "9925177e-000e-4342-b594-249f031dc489",
   "metadata": {},
   "outputs": [
    {
     "data": {
      "text/plain": [
       "dict_keys(['data', 'target', 'frame', 'categories', 'feature_names', 'target_names', 'DESCR', 'details', 'url'])"
      ]
     },
     "execution_count": 3,
     "metadata": {},
     "output_type": "execute_result"
    }
   ],
   "source": [
    "from sklearn.datasets import fetch_openml\n",
    "mnist=fetch_openml('mnist_784',version=1)\n",
    "mnist.keys()"
   ]
  },
  {
   "cell_type": "code",
   "execution_count": 4,
   "id": "0feb5053-9f02-448c-9902-a21ec88a09e1",
   "metadata": {},
   "outputs": [
    {
     "name": "stdout",
     "output_type": "stream",
     "text": [
      "<class 'pandas.core.frame.DataFrame'>\n",
      "<class 'pandas.core.series.Series'>\n",
      "<class 'pandas.core.series.Series'>\n",
      "<class 'pandas.core.dtypes.dtypes.CategoricalDtype'>\n"
     ]
    }
   ],
   "source": [
    "print(type(mnist.data))\n",
    "print(type(mnist.target))\n",
    "print(type(mnist.data.dtypes)) # float64\n",
    "print(type(mnist.target.dtypes)) # strings"
   ]
  },
  {
   "cell_type": "code",
   "execution_count": 5,
   "id": "d840ddb3-000e-4d7e-ba41-557ec096020c",
   "metadata": {},
   "outputs": [],
   "source": [
    "# so the dataset is basically pandas dataframe and can be used using data attribute of the mnist class\n"
   ]
  },
  {
   "cell_type": "code",
   "execution_count": 6,
   "id": "eda308e3-1281-42a6-af97-f7d22a939bdd",
   "metadata": {},
   "outputs": [],
   "source": [
    "# the datasets included using scikit learn generally have the same kind of dictionary structure including\n",
    "# a desc key describing the dataset\n",
    "# a data key containing an array with one row per instance and one column per feature\n",
    "# a target key containing an array with the labels "
   ]
  },
  {
   "cell_type": "code",
   "execution_count": 7,
   "id": "f4bb3997-ce15-4b4c-9aab-f1d99204ddd2",
   "metadata": {},
   "outputs": [
    {
     "data": {
      "text/plain": [
       "(70000, 784)"
      ]
     },
     "execution_count": 7,
     "metadata": {},
     "output_type": "execute_result"
    }
   ],
   "source": [
    "X,y=mnist[\"data\"],mnist[\"target\"]\n",
    "X.shape"
   ]
  },
  {
   "cell_type": "code",
   "execution_count": 8,
   "id": "1a5e7ac9-8191-4188-853a-49b9b9d6c593",
   "metadata": {},
   "outputs": [
    {
     "data": {
      "text/plain": [
       "(70000,)"
      ]
     },
     "execution_count": 8,
     "metadata": {},
     "output_type": "execute_result"
    }
   ],
   "source": [
    "y.shape"
   ]
  },
  {
   "cell_type": "code",
   "execution_count": 9,
   "id": "aef5f25d-ada9-40b2-b6b4-c855c8c802d9",
   "metadata": {},
   "outputs": [
    {
     "data": {
      "image/png": "[encoded data removed]",
      "text/plain": [
       "<Figure size 640x480 with 1 Axes>"
      ]
     },
     "metadata": {},
     "output_type": "display_data"
    }
   ],
   "source": [
    "# this basically says there are 70000 imagaes, with each having 28*28=784 features , ie, each feature \n",
    "# simply represents one pixel's intensity from 0(white) to 255(black)\n",
    "# let's see one instance , how it looks: grab instance's feature vector, reshape it to 28*28 array an display using matplotlib\n",
    "import pandas\n",
    "%matplotlib inline\n",
    "import matplotlib\n",
    "import matplotlib.pyplot as plt\n",
    "some_digit=X.iloc[0].to_numpy()\n",
    "some_digit_image=some_digit.reshape(28,28)\n",
    "plt.imshow(some_digit_image,cmap=\"binary\")\n",
    "#plt.axis(\"off\")\n",
    "plt.show()"
   ]
  },
  {
   "cell_type": "code",
   "execution_count": 10,
   "id": "1bfd96b2-b810-41a3-a5d9-cd774a73f3ab",
   "metadata": {},
   "outputs": [
    {
     "data": {
      "text/plain": [
       "'5'"
      ]
     },
     "execution_count": 10,
     "metadata": {},
     "output_type": "execute_result"
    }
   ],
   "source": [
    "y[0]"
   ]
  },
  {
   "cell_type": "code",
   "execution_count": 11,
   "id": "d30c83f4-f771-482b-bd73-5b942a5727d1",
   "metadata": {},
   "outputs": [],
   "source": [
    "# this is what most ml models would need too, converting  the y to integer\n",
    "import numpy as np\n",
    "y=y.astype(np.uint8)"
   ]
  },
  {
   "cell_type": "code",
   "execution_count": 12,
   "id": "afa6ee04-9adb-4a49-9c4a-7e35905b2a2a",
   "metadata": {},
   "outputs": [],
   "source": [
    "X_train,X_test, y_train,y_test=X[:60000],X[60000:],y[:60000],y[60000:]\n",
    "# mnist initial 60000 images are for training, already split \n",
    "# shuffle the training set , for cross validation folds will be similar, some models are sensitive to order of training instances\n",
    "import numpy as np \n",
    "shuffle_index=np.random.permutation(60000)\n",
    "X_train,y_train=X_train.iloc[shuffle_index],y_train.iloc[shuffle_index]"
   ]
  },
  {
   "cell_type": "code",
   "execution_count": 13,
   "id": "35ec9ee7-94b3-4705-9107-2a54adec9a9a",
   "metadata": {},
   "outputs": [],
   "source": [
    "# model for determining whether it is 5 or not, kinda binary classifer \n",
    "y_train_5=(y_train==5)\n",
    "y_test_5=(y_test==5)"
   ]
  },
  {
   "cell_type": "code",
   "execution_count": 14,
   "id": "044afce7-7a56-4ca0-86d9-20dd6ac1bfd1",
   "metadata": {},
   "outputs": [
    {
     "data": {
      "text/html": [
       "<style>#sk-container-id-1 {\n",
       "  /* Definition of color scheme common for light and dark mode */\n",
       "  --sklearn-color-text: black;\n",
       "  --sklearn-color-line: gray;\n",
       "  /* Definition of color scheme for unfitted estimators */\n",
       "  --sklearn-color-unfitted-level-0: #fff5e6;\n",
       "  --sklearn-color-unfitted-level-1: #f6e4d2;\n",
       "  --sklearn-color-unfitted-level-2: #ffe0b3;\n",
       "  --sklearn-color-unfitted-level-3: chocolate;\n",
       "  /* Definition of color scheme for fitted estimators */\n",
       "  --sklearn-color-fitted-level-0: #f0f8ff;\n",
       "  --sklearn-color-fitted-level-1: #d4ebff;\n",
       "  --sklearn-color-fitted-level-2: #b3dbfd;\n",
       "  --sklearn-color-fitted-level-3: cornflowerblue;\n",
       "\n",
       "  /* Specific color for light theme */\n",
       "  --sklearn-color-text-on-default-background: var(--sg-text-color, var(--theme-code-foreground, var(--jp-content-font-color1, black)));\n",
       "  --sklearn-color-background: var(--sg-background-color, var(--theme-background, var(--jp-layout-color0, white)));\n",
       "  --sklearn-color-border-box: var(--sg-text-color, var(--theme-code-foreground, var(--jp-content-font-color1, black)));\n",
       "  --sklearn-color-icon: #696969;\n",
       "\n",
       "  @media (prefers-color-scheme: dark) {\n",
       "    /* Redefinition of color scheme for dark theme */\n",
       "    --sklearn-color-text-on-default-background: var(--sg-text-color, var(--theme-code-foreground, var(--jp-content-font-color1, white)));\n",
       "    --sklearn-color-background: var(--sg-background-color, var(--theme-background, var(--jp-layout-color0, #111)));\n",
       "    --sklearn-color-border-box: var(--sg-text-color, var(--theme-code-foreground, var(--jp-content-font-color1, white)));\n",
       "    --sklearn-color-icon: #878787;\n",
       "  }\n",
       "}\n",
       "\n",
       "#sk-container-id-1 {\n",
       "  color: var(--sklearn-color-text);\n",
       "}\n",
       "\n",
       "#sk-container-id-1 pre {\n",
       "  padding: 0;\n",
       "}\n",
       "\n",
       "#sk-container-id-1 input.sk-hidden--visually {\n",
       "  border: 0;\n",
       "  clip: rect(1px 1px 1px 1px);\n",
       "  clip: rect(1px, 1px, 1px, 1px);\n",
       "  height: 1px;\n",
       "  margin: -1px;\n",
       "  overflow: hidden;\n",
       "  padding: 0;\n",
       "  position: absolute;\n",
       "  width: 1px;\n",
       "}\n",
       "\n",
       "#sk-container-id-1 div.sk-dashed-wrapped {\n",
       "  border: 1px dashed var(--sklearn-color-line);\n",
       "  margin: 0 0.4em 0.5em 0.4em;\n",
       "  box-sizing: border-box;\n",
       "  padding-bottom: 0.4em;\n",
       "  background-color: var(--sklearn-color-background);\n",
       "}\n",
       "\n",
       "#sk-container-id-1 div.sk-container {\n",
       "  /* jupyter's `normalize.less` sets `[hidden] { display: none; }`\n",
       "     but bootstrap.min.css set `[hidden] { display: none !important; }`\n",
       "     so we also need the `!important` here to be able to override the\n",
       "     default hidden behavior on the sphinx rendered scikit-learn.org.\n",
       "     See: https://github.com/scikit-learn/scikit-learn/issues/21755 */\n",
       "  display: inline-block !important;\n",
       "  position: relative;\n",
       "}\n",
       "\n",
       "#sk-container-id-1 div.sk-text-repr-fallback {\n",
       "  display: none;\n",
       "}\n",
       "\n",
       "div.sk-parallel-item,\n",
       "div.sk-serial,\n",
       "div.sk-item {\n",
       "  /* draw centered vertical line to link estimators */\n",
       "  background-image: linear-gradient(var(--sklearn-color-text-on-default-background), var(--sklearn-color-text-on-default-background));\n",
       "  background-size: 2px 100%;\n",
       "  background-repeat: no-repeat;\n",
       "  background-position: center center;\n",
       "}\n",
       "\n",
       "/* Parallel-specific style estimator block */\n",
       "\n",
       "#sk-container-id-1 div.sk-parallel-item::after {\n",
       "  content: \"\";\n",
       "  width: 100%;\n",
       "  border-bottom: 2px solid var(--sklearn-color-text-on-default-background);\n",
       "  flex-grow: 1;\n",
       "}\n",
       "\n",
       "#sk-container-id-1 div.sk-parallel {\n",
       "  display: flex;\n",
       "  align-items: stretch;\n",
       "  justify-content: center;\n",
       "  background-color: var(--sklearn-color-background);\n",
       "  position: relative;\n",
       "}\n",
       "\n",
       "#sk-container-id-1 div.sk-parallel-item {\n",
       "  display: flex;\n",
       "  flex-direction: column;\n",
       "}\n",
       "\n",
       "#sk-container-id-1 div.sk-parallel-item:first-child::after {\n",
       "  align-self: flex-end;\n",
       "  width: 50%;\n",
       "}\n",
       "\n",
       "#sk-container-id-1 div.sk-parallel-item:last-child::after {\n",
       "  align-self: flex-start;\n",
       "  width: 50%;\n",
       "}\n",
       "\n",
       "#sk-container-id-1 div.sk-parallel-item:only-child::after {\n",
       "  width: 0;\n",
       "}\n",
       "\n",
       "/* Serial-specific style estimator block */\n",
       "\n",
       "#sk-container-id-1 div.sk-serial {\n",
       "  display: flex;\n",
       "  flex-direction: column;\n",
       "  align-items: center;\n",
       "  background-color: var(--sklearn-color-background);\n",
       "  padding-right: 1em;\n",
       "  padding-left: 1em;\n",
       "}\n",
       "\n",
       "\n",
       "/* Toggleable style: style used for estimator/Pipeline/ColumnTransformer box that is\n",
       "clickable and can be expanded/collapsed.\n",
       "- Pipeline and ColumnTransformer use this feature and define the default style\n",
       "- Estimators will overwrite some part of the style using the `sk-estimator` class\n",
       "*/\n",
       "\n",
       "/* Pipeline and ColumnTransformer style (default) */\n",
       "\n",
       "#sk-container-id-1 div.sk-toggleable {\n",
       "  /* Default theme specific background. It is overwritten whether we have a\n",
       "  specific estimator or a Pipeline/ColumnTransformer */\n",
       "  background-color: var(--sklearn-color-background);\n",
       "}\n",
       "\n",
       "/* Toggleable label */\n",
       "#sk-container-id-1 label.sk-toggleable__label {\n",
       "  cursor: pointer;\n",
       "  display: block;\n",
       "  width: 100%;\n",
       "  margin-bottom: 0;\n",
       "  padding: 0.5em;\n",
       "  box-sizing: border-box;\n",
       "  text-align: center;\n",
       "}\n",
       "\n",
       "#sk-container-id-1 label.sk-toggleable__label-arrow:before {\n",
       "  /* Arrow on the left of the label */\n",
       "  content: \"▸\";\n",
       "  float: left;\n",
       "  margin-right: 0.25em;\n",
       "  color: var(--sklearn-color-icon);\n",
       "}\n",
       "\n",
       "#sk-container-id-1 label.sk-toggleable__label-arrow:hover:before {\n",
       "  color: var(--sklearn-color-text);\n",
       "}\n",
       "\n",
       "/* Toggleable content - dropdown */\n",
       "\n",
       "#sk-container-id-1 div.sk-toggleable__content {\n",
       "  max-height: 0;\n",
       "  max-width: 0;\n",
       "  overflow: hidden;\n",
       "  text-align: left;\n",
       "  /* unfitted */\n",
       "  background-color: var(--sklearn-color-unfitted-level-0);\n",
       "}\n",
       "\n",
       "#sk-container-id-1 div.sk-toggleable__content.fitted {\n",
       "  /* fitted */\n",
       "  background-color: var(--sklearn-color-fitted-level-0);\n",
       "}\n",
       "\n",
       "#sk-container-id-1 div.sk-toggleable__content pre {\n",
       "  margin: 0.2em;\n",
       "  border-radius: 0.25em;\n",
       "  color: var(--sklearn-color-text);\n",
       "  /* unfitted */\n",
       "  background-color: var(--sklearn-color-unfitted-level-0);\n",
       "}\n",
       "\n",
       "#sk-container-id-1 div.sk-toggleable__content.fitted pre {\n",
       "  /* unfitted */\n",
       "  background-color: var(--sklearn-color-fitted-level-0);\n",
       "}\n",
       "\n",
       "#sk-container-id-1 input.sk-toggleable__control:checked~div.sk-toggleable__content {\n",
       "  /* Expand drop-down */\n",
       "  max-height: 200px;\n",
       "  max-width: 100%;\n",
       "  overflow: auto;\n",
       "}\n",
       "\n",
       "#sk-container-id-1 input.sk-toggleable__control:checked~label.sk-toggleable__label-arrow:before {\n",
       "  content: \"▾\";\n",
       "}\n",
       "\n",
       "/* Pipeline/ColumnTransformer-specific style */\n",
       "\n",
       "#sk-container-id-1 div.sk-label input.sk-toggleable__control:checked~label.sk-toggleable__label {\n",
       "  color: var(--sklearn-color-text);\n",
       "  background-color: var(--sklearn-color-unfitted-level-2);\n",
       "}\n",
       "\n",
       "#sk-container-id-1 div.sk-label.fitted input.sk-toggleable__control:checked~label.sk-toggleable__label {\n",
       "  background-color: var(--sklearn-color-fitted-level-2);\n",
       "}\n",
       "\n",
       "/* Estimator-specific style */\n",
       "\n",
       "/* Colorize estimator box */\n",
       "#sk-container-id-1 div.sk-estimator input.sk-toggleable__control:checked~label.sk-toggleable__label {\n",
       "  /* unfitted */\n",
       "  background-color: var(--sklearn-color-unfitted-level-2);\n",
       "}\n",
       "\n",
       "#sk-container-id-1 div.sk-estimator.fitted input.sk-toggleable__control:checked~label.sk-toggleable__label {\n",
       "  /* fitted */\n",
       "  background-color: var(--sklearn-color-fitted-level-2);\n",
       "}\n",
       "\n",
       "#sk-container-id-1 div.sk-label label.sk-toggleable__label,\n",
       "#sk-container-id-1 div.sk-label label {\n",
       "  /* The background is the default theme color */\n",
       "  color: var(--sklearn-color-text-on-default-background);\n",
       "}\n",
       "\n",
       "/* On hover, darken the color of the background */\n",
       "#sk-container-id-1 div.sk-label:hover label.sk-toggleable__label {\n",
       "  color: var(--sklearn-color-text);\n",
       "  background-color: var(--sklearn-color-unfitted-level-2);\n",
       "}\n",
       "\n",
       "/* Label box, darken color on hover, fitted */\n",
       "#sk-container-id-1 div.sk-label.fitted:hover label.sk-toggleable__label.fitted {\n",
       "  color: var(--sklearn-color-text);\n",
       "  background-color: var(--sklearn-color-fitted-level-2);\n",
       "}\n",
       "\n",
       "/* Estimator label */\n",
       "\n",
       "#sk-container-id-1 div.sk-label label {\n",
       "  font-family: monospace;\n",
       "  font-weight: bold;\n",
       "  display: inline-block;\n",
       "  line-height: 1.2em;\n",
       "}\n",
       "\n",
       "#sk-container-id-1 div.sk-label-container {\n",
       "  text-align: center;\n",
       "}\n",
       "\n",
       "/* Estimator-specific */\n",
       "#sk-container-id-1 div.sk-estimator {\n",
       "  font-family: monospace;\n",
       "  border: 1px dotted var(--sklearn-color-border-box);\n",
       "  border-radius: 0.25em;\n",
       "  box-sizing: border-box;\n",
       "  margin-bottom: 0.5em;\n",
       "  /* unfitted */\n",
       "  background-color: var(--sklearn-color-unfitted-level-0);\n",
       "}\n",
       "\n",
       "#sk-container-id-1 div.sk-estimator.fitted {\n",
       "  /* fitted */\n",
       "  background-color: var(--sklearn-color-fitted-level-0);\n",
       "}\n",
       "\n",
       "/* on hover */\n",
       "#sk-container-id-1 div.sk-estimator:hover {\n",
       "  /* unfitted */\n",
       "  background-color: var(--sklearn-color-unfitted-level-2);\n",
       "}\n",
       "\n",
       "#sk-container-id-1 div.sk-estimator.fitted:hover {\n",
       "  /* fitted */\n",
       "  background-color: var(--sklearn-color-fitted-level-2);\n",
       "}\n",
       "\n",
       "/* Specification for estimator info (e.g. \"i\" and \"?\") */\n",
       "\n",
       "/* Common style for \"i\" and \"?\" */\n",
       "\n",
       ".sk-estimator-doc-link,\n",
       "a:link.sk-estimator-doc-link,\n",
       "a:visited.sk-estimator-doc-link {\n",
       "  float: right;\n",
       "  font-size: smaller;\n",
       "  line-height: 1em;\n",
       "  font-family: monospace;\n",
       "  background-color: var(--sklearn-color-background);\n",
       "  border-radius: 1em;\n",
       "  height: 1em;\n",
       "  width: 1em;\n",
       "  text-decoration: none !important;\n",
       "  margin-left: 1ex;\n",
       "  /* unfitted */\n",
       "  border: var(--sklearn-color-unfitted-level-1) 1pt solid;\n",
       "  color: var(--sklearn-color-unfitted-level-1);\n",
       "}\n",
       "\n",
       ".sk-estimator-doc-link.fitted,\n",
       "a:link.sk-estimator-doc-link.fitted,\n",
       "a:visited.sk-estimator-doc-link.fitted {\n",
       "  /* fitted */\n",
       "  border: var(--sklearn-color-fitted-level-1) 1pt solid;\n",
       "  color: var(--sklearn-color-fitted-level-1);\n",
       "}\n",
       "\n",
       "/* On hover */\n",
       "div.sk-estimator:hover .sk-estimator-doc-link:hover,\n",
       ".sk-estimator-doc-link:hover,\n",
       "div.sk-label-container:hover .sk-estimator-doc-link:hover,\n",
       ".sk-estimator-doc-link:hover {\n",
       "  /* unfitted */\n",
       "  background-color: var(--sklearn-color-unfitted-level-3);\n",
       "  color: var(--sklearn-color-background);\n",
       "  text-decoration: none;\n",
       "}\n",
       "\n",
       "div.sk-estimator.fitted:hover .sk-estimator-doc-link.fitted:hover,\n",
       ".sk-estimator-doc-link.fitted:hover,\n",
       "div.sk-label-container:hover .sk-estimator-doc-link.fitted:hover,\n",
       ".sk-estimator-doc-link.fitted:hover {\n",
       "  /* fitted */\n",
       "  background-color: var(--sklearn-color-fitted-level-3);\n",
       "  color: var(--sklearn-color-background);\n",
       "  text-decoration: none;\n",
       "}\n",
       "\n",
       "/* Span, style for the box shown on hovering the info icon */\n",
       ".sk-estimator-doc-link span {\n",
       "  display: none;\n",
       "  z-index: 9999;\n",
       "  position: relative;\n",
       "  font-weight: normal;\n",
       "  right: .2ex;\n",
       "  padding: .5ex;\n",
       "  margin: .5ex;\n",
       "  width: min-content;\n",
       "  min-width: 20ex;\n",
       "  max-width: 50ex;\n",
       "  color: var(--sklearn-color-text);\n",
       "  box-shadow: 2pt 2pt 4pt #999;\n",
       "  /* unfitted */\n",
       "  background: var(--sklearn-color-unfitted-level-0);\n",
       "  border: .5pt solid var(--sklearn-color-unfitted-level-3);\n",
       "}\n",
       "\n",
       ".sk-estimator-doc-link.fitted span {\n",
       "  /* fitted */\n",
       "  background: var(--sklearn-color-fitted-level-0);\n",
       "  border: var(--sklearn-color-fitted-level-3);\n",
       "}\n",
       "\n",
       ".sk-estimator-doc-link:hover span {\n",
       "  display: block;\n",
       "}\n",
       "\n",
       "/* \"?\"-specific style due to the `<a>` HTML tag */\n",
       "\n",
       "#sk-container-id-1 a.estimator_doc_link {\n",
       "  float: right;\n",
       "  font-size: 1rem;\n",
       "  line-height: 1em;\n",
       "  font-family: monospace;\n",
       "  background-color: var(--sklearn-color-background);\n",
       "  border-radius: 1rem;\n",
       "  height: 1rem;\n",
       "  width: 1rem;\n",
       "  text-decoration: none;\n",
       "  /* unfitted */\n",
       "  color: var(--sklearn-color-unfitted-level-1);\n",
       "  border: var(--sklearn-color-unfitted-level-1) 1pt solid;\n",
       "}\n",
       "\n",
       "#sk-container-id-1 a.estimator_doc_link.fitted {\n",
       "  /* fitted */\n",
       "  border: var(--sklearn-color-fitted-level-1) 1pt solid;\n",
       "  color: var(--sklearn-color-fitted-level-1);\n",
       "}\n",
       "\n",
       "/* On hover */\n",
       "#sk-container-id-1 a.estimator_doc_link:hover {\n",
       "  /* unfitted */\n",
       "  background-color: var(--sklearn-color-unfitted-level-3);\n",
       "  color: var(--sklearn-color-background);\n",
       "  text-decoration: none;\n",
       "}\n",
       "\n",
       "#sk-container-id-1 a.estimator_doc_link.fitted:hover {\n",
       "  /* fitted */\n",
       "  background-color: var(--sklearn-color-fitted-level-3);\n",
       "}\n",
       "</style><div id=\"sk-container-id-1\" class=\"sk-top-container\"><div class=\"sk-text-repr-fallback\"><pre>SGDClassifier(random_state=42)</pre><b>In a Jupyter environment, please rerun this cell to show the HTML representation or trust the notebook. <br />On GitHub, the HTML representation is unable to render, please try loading this page with nbviewer.org.</b></div><div class=\"sk-container\" hidden><div class=\"sk-item\"><div class=\"sk-estimator fitted sk-toggleable\"><input class=\"sk-toggleable__control sk-hidden--visually\" id=\"sk-estimator-id-1\" type=\"checkbox\" checked><label for=\"sk-estimator-id-1\" class=\"sk-toggleable__label fitted sk-toggleable__label-arrow fitted\">&nbsp;&nbsp;SGDClassifier<a class=\"sk-estimator-doc-link fitted\" rel=\"noreferrer\" target=\"_blank\" href=\"https://scikit-learn.org/1.5/modules/generated/sklearn.linear_model.SGDClassifier.html\">?<span>Documentation for SGDClassifier</span></a><span class=\"sk-estimator-doc-link fitted\">i<span>Fitted</span></span></label><div class=\"sk-toggleable__content fitted\"><pre>SGDClassifier(random_state=42)</pre></div> </div></div></div></div>"
      ],
      "text/plain": [
       "SGDClassifier(random_state=42)"
      ]
     },
     "execution_count": 14,
     "metadata": {},
     "output_type": "execute_result"
    }
   ],
   "source": [
    "# will see Stochastic Gradient Descent (SGD) classifier, \n",
    "# class in scikit learn can handle very large datasets efficiently\n",
    "# SGD deals with training instances independently, one at a time,i.e., suitable for online learning too\n",
    "from sklearn.linear_model import SGDClassifier\n",
    "sgd_clf=SGDClassifier(random_state=42)\n",
    "#y_train_5=y_train_5.to_numpy().ravel()\n",
    "sgd_clf.fit(X_train,y_train_5)\n"
   ]
  },
  {
   "cell_type": "code",
   "execution_count": 15,
   "id": "6c582c08-87de-43a3-a5a1-1bd2d84b864e",
   "metadata": {},
   "outputs": [
    {
     "name": "stderr",
     "output_type": "stream",
     "text": [
      "/home/abhinavpc/Desktop/ML/eduml/lib/python3.12/site-packages/sklearn/base.py:493: UserWarning: X does not have valid feature names, but SGDClassifier was fitted with feature names\n",
      "  warnings.warn(\n"
     ]
    },
    {
     "data": {
      "text/plain": [
       "array([ True])"
      ]
     },
     "execution_count": 15,
     "metadata": {},
     "output_type": "execute_result"
    }
   ],
   "source": [
    "# sgd relies on randomness during training so for reproducible results, set the random state parameter\n",
    "some_digit = X.iloc[0].values.reshape(1, -1)  \n",
    "sgd_clf.predict(some_digit)"
   ]
  },
  {
   "cell_type": "code",
   "execution_count": 16,
   "id": "2b5fc4cf-683e-4e42-813b-fd729bb72914",
   "metadata": {},
   "outputs": [],
   "source": [
    "# let's check the performance \n",
    "# often it is trickier than evaluating a regressor,\n",
    "# there are many performance variables and will see them throughout the chapter\n"
   ]
  },
  {
   "cell_type": "code",
   "execution_count": 17,
   "id": "23e1a6f3-e359-4ce6-bde0-f1d47b4a7f88",
   "metadata": {},
   "outputs": [
    {
     "name": "stdout",
     "output_type": "stream",
     "text": [
      "0.82965\n",
      "0.89165\n",
      "0.8603\n"
     ]
    }
   ],
   "source": [
    "# 1. CROSS VALIDATION\n",
    "    # can implement by slef to have more control\n",
    "from sklearn.model_selection import StratifiedKFold \n",
    "from sklearn.base import clone\n",
    "skfolds=StratifiedKFold(n_splits=3,random_state=42,shuffle=True)\n",
    "for train_index,test_index in skfolds.split(X_train,y_train_5):\n",
    "    clone_clf= clone(sgd_clf)\n",
    "    X_train_folds=X_train.to_numpy()[train_index]\n",
    "    y_train_folds=y_train_5[train_index]\n",
    "    X_test_fold=X_train.to_numpy()[test_index]\n",
    "    y_test_fold=y_train_5[test_index]\n",
    "\n",
    "    clone_clf.fit(X_train_folds,y_train_folds)\n",
    "    y_pred=clone_clf.predict(X_test_fold)\n",
    "    n_correct=sum(y_pred==y_test_fold)\n",
    "    print(n_correct/len(y_pred))    "
   ]
  },
  {
   "cell_type": "code",
   "execution_count": 18,
   "id": "5bb6c21f-f01c-448b-8d6f-7ed660f88a0a",
   "metadata": {},
   "outputs": [],
   "source": [
    "# STRATIFIED K FOLDS\n",
    "# 1. Splitting the data into 5 folds for StratifiedKFold cross-validation\n",
    "# 2. Iterations:\n",
    "#    Iteration 1: Train on folds 2, 3, 4, 5 → Test on fold 1\n",
    "#    Iteration 2: Train on folds 1, 3, 4, 5 → Test on fold 2\n",
    "#    Iteration 3: Train on folds 1, 2, 4, 5 → Test on fold 3\n",
    "#    Iteration 4: Train on folds 1, 2, 3, 5 → Test on fold 4\n",
    "#    Iteration 5: Train on folds 1, 2, 3, 4 → Test on fold 5\n",
    "\n",
    "# 3. Average performance is computed by averaging the results across all 5 validation sets\n",
    "# 4. Once the cross-validation is complete, we train the final model on the entire dataset\n",
    "#    This final model will now use all available data (both training and validation data)\n",
    "#    to improve its learning and generalize better for future predictions.\n",
    "\n",
    "# essence of the process :\n",
    "process=\"\"\"\n",
    "Recap of the Process:\n",
    "\n",
    "1.  Cross-Validation: By using cross-validation, you effectively split the dataset into multiple parts, \n",
    "    allowing you to train and validate your models in a way that helps prevent overfitting. Each fold serves \n",
    "    as a separate validation set, providing insights into how well each model generalizes to unseen data.\n",
    "\n",
    "2.  Model Selection: The model that performs well across the different folds is likely to be more robust \n",
    "    and less likely to overfit because it has been tested against various subsets of the data. This is crucial \n",
    "    because it gives you confidence that the model isn’t just memorizing the training data.\n",
    "\n",
    "3.  Final Model Training: After identifying the best-performing model through cross-validation, you can \n",
    "    then train this model on the entire dataset. This final training allows the model to learn from all \n",
    "    available data, which can improve its performance even further.\n",
    "\n",
    "Key Benefits:\n",
    "\n",
    "*   Reduced Overfitting: Since you are validating the model's performance on different subsets of data, \n",
    "    it ensures that the model is generalizing well rather than simply fitting the noise in the training data.\n",
    "\n",
    "*   Informed Decision-Making: By evaluating multiple models or configurations during cross-validation, \n",
    "    you can make informed decisions about which model to finalize, based on their actual performance \n",
    "    rather than assumptions or isolated evaluations.\n",
    "\n",
    "*   Maximizing Data Usage: Training on the full dataset after selecting the best model allows you to \n",
    "    leverage all available data for learning, which can enhance predictive power.\n",
    "\n",
    "Summary:\n",
    "\n",
    "In essence, cross-validation serves as a safeguard against overfitting and helps you identify the \n",
    "most suitable model for your problem. The final training phase then capitalizes on this selection, \n",
    "ensuring that the model you deploy is well-trained and effective for making predictions on unseen data.\n",
    "\"\"\"\n"
   ]
  },
  {
   "cell_type": "code",
   "execution_count": 19,
   "id": "9ef87bfd-c6e7-4d31-b194-a5afb518e88f",
   "metadata": {},
   "outputs": [
    {
     "data": {
      "text/plain": [
       "array([0.9684, 0.9534, 0.9505])"
      ]
     },
     "execution_count": 19,
     "metadata": {},
     "output_type": "execute_result"
    }
   ],
   "source": [
    "from sklearn.model_selection import cross_val_score\n",
    "cross_val_score(sgd_clf,X_train,y_train_5,cv=3,scoring=\"accuracy\")"
   ]
  },
  {
   "cell_type": "code",
   "execution_count": 20,
   "id": "beb9fd68-105e-4a8e-be2a-d6f07feb40d2",
   "metadata": {},
   "outputs": [],
   "source": [
    "from sklearn.base import BaseEstimator\n",
    "\n",
    "class Never5Classifier(BaseEstimator):\n",
    "    def fit(self,X,y=None):\n",
    "        return self\n",
    "    def predict(self,X):\n",
    "        return np.zeros((len(X),1),dtype=bool)"
   ]
  },
  {
   "cell_type": "code",
   "execution_count": 21,
   "id": "0d07bedf-ed57-4418-bec7-9ae8a09a16db",
   "metadata": {},
   "outputs": [
    {
     "data": {
      "text/plain": [
       "array([0.90835, 0.9082 , 0.9124 ])"
      ]
     },
     "execution_count": 21,
     "metadata": {},
     "output_type": "execute_result"
    }
   ],
   "source": [
    "# so this is our never 5 classifier\n",
    "never_5_clf=Never5Classifier()\n",
    "cross_val_score(never_5_clf,X_train,y_train_5,cv=3,scoring=\"accuracy\")"
   ]
  },
  {
   "cell_type": "code",
   "execution_count": 22,
   "id": "b3916911-9167-4524-bac6-6fddfc2417a4",
   "metadata": {},
   "outputs": [],
   "source": [
    "# this is because only  10 percent of the images are 5,\n",
    "# that is why accuracy isn't preferred performance measure for classifiers , especially when dealing with skewed datasetss, ie, so classes more frequent than other\n",
    "# Accuracy is misleading in imbalanced datasets since it doesn't capture the model's performance on minority classes.\n",
    "# It doesn't differentiate between false positives and false negatives, which may be crucial in specific applications.\n",
    "# Metrics like precision, recall, F1-score, and AUC-ROC are preferred for better insights, especially in imbalanced or critical cases.\n"
   ]
  },
  {
   "cell_type": "code",
   "execution_count": 23,
   "id": "2ba54e9f-4b76-4f65-bf71-07c39ad9aa29",
   "metadata": {},
   "outputs": [],
   "source": [
    "\n",
    "#CONFUSION MATRIX\n"
   ]
  },
  {
   "cell_type": "code",
   "execution_count": 24,
   "id": "a70b8060-4e28-4b9c-afad-a266998a3032",
   "metadata": {},
   "outputs": [],
   "source": [
    "# count numebr of times instance of class A are classfied as Class B.ie, e.g. how many number of times \n",
    "# did model confused image sof 5 with 3, we would like to look fifth row and 3rd column of the confusion  matrix\n",
    "\n",
    "# let's see, but using cross validation for now, since don't want to use the test set\n",
    "\n",
    "from sklearn.model_selection import cross_val_predict\n",
    "y_train_pred=cross_val_predict(sgd_clf,X_train,y_train_5,cv=3)\n",
    "# here, cross_val_predict don't give the evaluation scores like cross_val_score(), rather  it gives the clean predictions, ie, predictions by model on never saw data during the training\n"
   ]
  },
  {
   "cell_type": "code",
   "execution_count": 25,
   "id": "d93c7618-09d2-42e8-b2d5-e551435cf604",
   "metadata": {},
   "outputs": [
    {
     "data": {
      "text/plain": [
       "array([[53776,   803],\n",
       "       [ 1751,  3670]])"
      ]
     },
     "execution_count": 25,
     "metadata": {},
     "output_type": "execute_result"
    }
   ],
   "source": [
    "# final step to get confusion matrix: pass target class and prediction into the function\n",
    "from sklearn.metrics import confusion_matrix\n",
    "confusion_matrix(y_train_5,y_train_pred)\n",
    "# means, pass output, prediciton format"
   ]
  },
  {
   "cell_type": "code",
   "execution_count": 26,
   "id": "24f8a8d3-cbb1-49ed-aec9-c4775d6e3dbe",
   "metadata": {},
   "outputs": [],
   "source": [
    "# row means actual class, and column means predicted\n",
    "# 53868 are correctly classified as non-5 (true negatives), 711 were wrongly classified as 5(false positives)\n",
    "# now, the second row, means images of 5s (positive class), "
   ]
  },
  {
   "cell_type": "code",
   "execution_count": 27,
   "id": "ab37ad55-1f04-4b8c-8991-36542636a5af",
   "metadata": {},
   "outputs": [
    {
     "data": {
      "text/plain": [
       "np.float64(0.8204784261122289)"
      ]
     },
     "execution_count": 27,
     "metadata": {},
     "output_type": "execute_result"
    }
   ],
   "source": [
    "# but it is not concise, \n",
    "# precision and recall:\n",
    "from sklearn.metrics import precision_score, recall_score\n",
    "precision_score(y_train_5,y_train_pred)"
   ]
  },
  {
   "cell_type": "code",
   "execution_count": 28,
   "id": "f8772d14-0854-4743-bf42-1ea03acd2d35",
   "metadata": {},
   "outputs": [
    {
     "data": {
      "text/plain": [
       "np.float64(0.6769968640472238)"
      ]
     },
     "execution_count": 28,
     "metadata": {},
     "output_type": "execute_result"
    }
   ],
   "source": [
    "recall_score(y_train_5,y_train_pred)"
   ]
  },
  {
   "cell_type": "code",
   "execution_count": 29,
   "id": "f52597c2-5ff7-436d-b358-3a34d42fe798",
   "metadata": {},
   "outputs": [],
   "source": [
    "# damn things far below 90 percent numbers now,so if model claims a number 5, it is correct 88.5 percent of times actually\n",
    "# and it only detect 55.45 percent of 5s\n"
   ]
  },
  {
   "cell_type": "code",
   "execution_count": 30,
   "id": "98904b1b-9a87-46cc-9894-1f0c009ff977",
   "metadata": {},
   "outputs": [
    {
     "data": {
      "text/plain": [
       "np.float64(0.741863755811603)"
      ]
     },
     "execution_count": 30,
     "metadata": {},
     "output_type": "execute_result"
    }
   ],
   "source": [
    "# we have F1 score as comnination of both to actually compare performance of 2 classfiers\n",
    "# it is HM of both\n",
    "from sklearn.metrics import f1_score\n",
    "f1_score(y_train_5,y_train_pred)"
   ]
  },
  {
   "cell_type": "code",
   "execution_count": 31,
   "id": "cad1e308-96ff-432b-b6f2-076143d26e48",
   "metadata": {},
   "outputs": [
    {
     "name": "stderr",
     "output_type": "stream",
     "text": [
      "/home/abhinavpc/Desktop/ML/eduml/lib/python3.12/site-packages/sklearn/base.py:493: UserWarning: X does not have valid feature names, but SGDClassifier was fitted with feature names\n",
      "  warnings.warn(\n"
     ]
    },
    {
     "data": {
      "text/plain": [
       "array([5008.23501393])"
      ]
     },
     "execution_count": 31,
     "metadata": {},
     "output_type": "execute_result"
    }
   ],
   "source": [
    "# we need both precision and recall depending upon the case, so we usually trade off the stuff\n",
    "# we can check decision score for each instance of sgdclassifier and then set the threshold by ourself, since we can't actually do that in ssgd classifier itself\n",
    "y_scores=sgd_clf.decision_function(some_digit.reshape(1,-1))\n",
    "y_scores"
   ]
  },
  {
   "cell_type": "code",
   "execution_count": 32,
   "id": "0c7f8fd4-dfd5-45f7-8153-9b96351253b6",
   "metadata": {},
   "outputs": [
    {
     "data": {
      "text/plain": [
       "array([5008.23501393])"
      ]
     },
     "execution_count": 32,
     "metadata": {},
     "output_type": "execute_result"
    }
   ],
   "source": [
    "some_digit.shape\n",
    "import pandas as pd\n",
    "# the warning is because x train on which model is trained, If X_train and X_test are slices of the original X and X is a pandas DataFrame, then yes, they will also have column labels (i.e., feature names).\n",
    "# and now, somedigit doesn't have the column labels, and just is a numpy array, as we have extracted it using the iloc method, \n",
    "# to resolve the warning, simply can convert it back to the dataframe\n",
    "some_digit_df = pd.DataFrame(some_digit, columns=X_train.columns)\n",
    "y_scores=sgd_clf.decision_function(some_digit_df)\n",
    "y_scores\n"
   ]
  },
  {
   "cell_type": "code",
   "execution_count": 33,
   "id": "ec8dfc71-af2e-4a7f-8ec4-9cc6d0dacf4f",
   "metadata": {},
   "outputs": [],
   "source": [
    "# decision function basically, wants data like :\n",
    "# Example data (X: 2D array, y: labels)\n",
    "# X_train = [[0.5, 1.2], [1.1, -0.3], [0.3, 0.8]]  # 3 samples, 2 features\n",
    "# y_train = [0, 1, 0]  # Class labels (binary)\n",
    "# For multiclass classification, the input to the decision_function() is still a 2D matrix of shape (n_samples, n_features).\n",
    "# y train too, will be like the categories\n",
    "\n",
    "# coming upto the output of the decision function\n",
    "\n",
    "# for multiclass regression, output looks like: [-1630.25,  -282.73,   -79.12,   580.33,  -520.10,   284.43, -802.45,   432.23,   57.90,  1755.34]\n",
    "# ie; this is for the mnist dataset,This is output on a single input and 1st element represents the decision score for class 0(Digit 0) \n",
    "# so when whole input passed, we will get a 2d matrix (instance,scores(size10))\n",
    "\n"
   ]
  },
  {
   "cell_type": "code",
   "execution_count": 34,
   "id": "06fb02e1-4bdd-48dd-8541-dd85e0830048",
   "metadata": {},
   "outputs": [
    {
     "data": {
      "text/plain": [
       "array([ True])"
      ]
     },
     "execution_count": 34,
     "metadata": {},
     "output_type": "execute_result"
    }
   ],
   "source": [
    "threshold=0\n",
    "y_some_digit_pred=(y_scores>threshold)\n",
    "y_some_digit_pred"
   ]
  },
  {
   "cell_type": "code",
   "execution_count": 35,
   "id": "a844d329-335b-4817-87cd-7122aa728fb9",
   "metadata": {},
   "outputs": [
    {
     "data": {
      "text/plain": [
       "array([False])"
      ]
     },
     "execution_count": 35,
     "metadata": {},
     "output_type": "execute_result"
    }
   ],
   "source": [
    "threshold=8999\n",
    "y_some_digit_pred=(y_scores>threshold)\n",
    "y_some_digit_pred"
   ]
  },
  {
   "cell_type": "code",
   "execution_count": 36,
   "id": "4e92b7b8-195f-4c3a-9878-16f1ad8f5c8e",
   "metadata": {},
   "outputs": [],
   "source": [
    "# raising threshold decreases the recall\n",
    "# to decide which threshold to use:\n",
    "\n",
    "# get decision function scores on the input\n",
    "from sklearn.model_selection import cross_val_predict\n",
    "y_scores=cross_val_predict(sgd_clf,X_train,y_train_5,cv=3,method=\"decision_function\")"
   ]
  },
  {
   "cell_type": "code",
   "execution_count": 37,
   "id": "707af1ff-41ca-4a06-b89a-9875aec5ea99",
   "metadata": {},
   "outputs": [],
   "source": [
    "# make precision recall curver()\n",
    "from sklearn.metrics import precision_recall_curve\n",
    "precisions,recalls,thresholds=precision_recall_curve(y_train_5,y_scores)"
   ]
  },
  {
   "cell_type": "code",
   "execution_count": 38,
   "id": "3ec10938-6ebe-4a2c-b58c-fe05c9dbd5da",
   "metadata": {
    "scrolled": true
   },
   "outputs": [
    {
     "data": {
      "image/png": "[encoded data removed]",
      "text/plain": [
       "<Figure size 640x480 with 1 Axes>"
      ]
     },
     "metadata": {},
     "output_type": "display_data"
    }
   ],
   "source": [
    "import numpy as np\n",
    "def plot_precision_recall_vs_threshold(precisions,recalls,threshold):\n",
    "    plt.plot(thresholds,precisions[:-1],\"b--\",label=\"Precision\")\n",
    "    plt.plot(thresholds,recalls[:-1],\"g--\",label=\"Recall\")\n",
    "    threshold_highlight=0.5\n",
    "    plt.axvline(x=threshold_highlight,color=\"red\",linestyle=\"--\",label=f'Threshold={threshold_highlight}')\n",
    "    plt.text(threshold_highlight+0.05,0.5,f'Threshold={threshold_highlight}',color='red')\n",
    "    plt.xlabel(\"Threshold\")\n",
    "    plt.ylabel(\"Precision/Recall\")\n",
    "    plt.title(\"Precision-Recall vs Threshold\")\n",
    "\n",
    "    #idx=np.where(threshold==threshold_highlight)[0][0]\n",
    "\n",
    "    #precision_at_thresh=precisions[idx]\n",
    "    #recall_at_thresh=recalls[idx]\n",
    "    #plt.hlines(precision_at_thresh,xmin=thresholds[0],xmax=threshold_highlight,colors='blue',linestyles=\"--\")\n",
    "    #plt.hlines(recall_at_thresh,xmin=thresholds[0],xmax=threshold_highlight,colors=\"green\",linestyle=\"--\")\n",
    "    \n",
    "    plt.legend(loc=\"best\")\n",
    "    plt.grid(True)\n",
    "    \n",
    "plot_precision_recall_vs_threshold(precisions,recalls,thresholds)\n",
    "plt.show()"
   ]
  },
  {
   "cell_type": "code",
   "execution_count": null,
   "id": "b57426ba-5124-4277-a709-de75f5fbcd36",
   "metadata": {},
   "outputs": [],
   "source": []
  },
  {
   "cell_type": "code",
   "execution_count": 39,
   "id": "9c58be8e-9473-43e4-b77a-605d30caa6d0",
   "metadata": {},
   "outputs": [
    {
     "data": {
      "image/png": "[encoded data removed]",
      "text/plain": [
       "<Figure size 640x480 with 1 Axes>"
      ]
     },
     "metadata": {},
     "output_type": "display_data"
    }
   ],
   "source": [
    "# or can directly plt \n",
    "plt.plot(recalls,precisions,\"b--\",label=\"Precision-Recall Curve\")\n",
    "plt.xlabel(\"Recall\")\n",
    "plt.ylabel(\"Precision\")\n",
    "plt.title(\"Precision vs Recall Curve\")\n",
    "plt.legend(loc='best')\n",
    "plt.grid(True)\n",
    "plt.show()\n",
    "\n",
    "# precision falling shaprly after 80 percent recall\n",
    "# prob want to select the trade off near it , obv at the end choice is upto your needs\n",
    "# example: 90 percent precision\n",
    "# for the score threshold, can look at the first curve or \n",
    "threshold_90_precision=thresholds[np.argmax(precisions>=0.90)]\n",
    "y_train_pred_90=(y_scores>=threshold_90_precision)  # so we basically have the threshold , now we can directly use it on the yscores and tell if it is 5 or not\n",
    "                 "
   ]
  },
  {
   "cell_type": "code",
   "execution_count": 40,
   "id": "7e9ec5ee-2973-4ed1-89b0-c793c67dbe78",
   "metadata": {},
   "outputs": [
    {
     "data": {
      "text/plain": [
       "np.float64(0.9000644745325597)"
      ]
     },
     "execution_count": 40,
     "metadata": {},
     "output_type": "execute_result"
    }
   ],
   "source": [
    "precision_score(y_train_5,y_train_pred_90)"
   ]
  },
  {
   "cell_type": "code",
   "execution_count": 41,
   "id": "660d2b0f-c887-42d9-9b70-2144a8a84a2e",
   "metadata": {},
   "outputs": [
    {
     "data": {
      "text/plain": [
       "np.float64(0.5150341265449179)"
      ]
     },
     "execution_count": 41,
     "metadata": {},
     "output_type": "execute_result"
    }
   ],
   "source": [
    "recall_score(y_train_5,y_train_pred_90)"
   ]
  },
  {
   "cell_type": "code",
   "execution_count": 42,
   "id": "52d6ebea-6136-48e0-8406-cfc08557d3eb",
   "metadata": {},
   "outputs": [],
   "source": [
    "# this is how we can use a model with wanted precision and recall\n",
    "# so , every time ask at which precision\n"
   ]
  },
  {
   "cell_type": "code",
   "execution_count": 43,
   "id": "3aa27e6f-8990-4511-835d-434d6a61ed7c",
   "metadata": {},
   "outputs": [],
   "source": [
    "# another common tool with binary classifier\n",
    "\n",
    "# The ROC Curve\n"
   ]
  },
  {
   "cell_type": "code",
   "execution_count": 44,
   "id": "bedc89ec-565f-4794-8842-39b1df4c9af6",
   "metadata": {},
   "outputs": [],
   "source": [
    "# similar to precision recall curve but it uses TPR(recall)vs FPR\n",
    "# FPR = false positive/(true+false) positive=1-specificity\n",
    "# where specificity is FNR , false negative rate\n",
    "# sensitivity vs (1-specificity) it is therefore\n"
   ]
  },
  {
   "cell_type": "code",
   "execution_count": 45,
   "id": "245661e8-0acc-4d80-9049-d94e53101aa7",
   "metadata": {},
   "outputs": [],
   "source": [
    "from sklearn.metrics import roc_curve\n",
    "fpr,tpr,thresholds=roc_curve(y_train_5,y_scores)"
   ]
  },
  {
   "cell_type": "code",
   "execution_count": 46,
   "id": "32c42fcc-8522-49d0-8ce5-1c130df08aa3",
   "metadata": {},
   "outputs": [
    {
     "data": {
      "image/png": "[encoded data removed]",
      "text/plain": [
       "<Figure size 640x480 with 1 Axes>"
      ]
     },
     "metadata": {},
     "output_type": "display_data"
    }
   ],
   "source": [
    "def plot_roc_curve(fpr,tpr,label=None):\n",
    "    plt.plot(fpr,tpr,linewidth=2,label=label)\n",
    "    plt.plot([0,1],[0,1],'k--')\n",
    "    plt.xlabel(\"TPR\")\n",
    "    plt.ylabel(\"FPR\")\n",
    "    plt.grid(True)\n",
    "plot_roc_curve(fpr,tpr)\n",
    "plt.show()"
   ]
  },
  {
   "cell_type": "code",
   "execution_count": 48,
   "id": "d5223fd1-0003-450e-a0b4-725da77ba696",
   "metadata": {},
   "outputs": [
    {
     "data": {
      "text/plain": [
       "np.float64(0.9620876790485466)"
      ]
     },
     "execution_count": 48,
     "metadata": {},
     "output_type": "execute_result"
    }
   ],
   "source": [
    "# again there is a tradeoff and it make sense too\n",
    "# the diagonal is actually roc curve of a random classifiethreshold_highlight=0.5r, and in every case we have to stay as far as possible from it\n",
    "# ie. for good classifier we want to be as top left corner as possible\n",
    "# AUC is used to compare classifiers, max =1 , pure random classifier=0.5\n",
    "\n",
    "from sklearn.metrics import roc_auc_score\n",
    "roc_auc_score(y_train_5,y_scores)"
   ]
  },
  {
   "cell_type": "code",
   "execution_count": null,
   "id": "a7c19839-15e0-451d-aefe-9b946de3f6c8",
   "metadata": {},
   "outputs": [],
   "source": []
  },
  {
   "cell_type": "code",
   "execution_count": 49,
   "id": "af4cd4db-828f-406d-b9af-f72c0b0c8b3a",
   "metadata": {},
   "outputs": [],
   "source": [
    "# always prefer precision/recall against roc curve whenever positive class is rare or when you care more about the false positives than the false negatives,eg shoplifter example\n",
    "# else the above curve showing high auc , this is because 5 is present in small amount in the data\n"
   ]
  },
  {
   "cell_type": "code",
   "execution_count": 50,
   "id": "c38d738f-7cf6-4219-b00d-aeb1ef39340d",
   "metadata": {},
   "outputs": [],
   "source": [
    "# random forest classifier\n",
    "# scikit learn functions generally have predict or predictprob methods\n",
    "\n",
    "from sklearn.ensemble import RandomForestClassifier\n",
    "\n",
    "forest_clf=RandomForestClassifier(random_state=42)\n",
    "y_probas_forest=cross_val_predict(forest_clf,X_train,y_train_5,cv=3,method=\"predict_proba\")"
   ]
  },
  {
   "cell_type": "code",
   "execution_count": 53,
   "id": "f41864b6-c713-4878-af97-71baae4a6eb7",
   "metadata": {},
   "outputs": [],
   "source": [
    "# the roc curve function expects labels and scores, but can give it class probabilities\n",
    "# let's use the probability of the positive class\n",
    "y_scores_forest=y_probas_forest[:,1] # for binary classifiers, index 0 and 1 of each instance represents probability of instance being of negative or positive class\n",
    "fpr_forest,tpr_forest,thresholds_forest=roc_curve(y_train_5,y_scores_forest)\n"
   ]
  },
  {
   "cell_type": "code",
   "execution_count": 56,
   "id": "bed523bd-8947-4077-ab77-9ed4ff12fd73",
   "metadata": {},
   "outputs": [
    {
     "data": {
      "image/png": "[encoded data removed]",
      "text/plain": [
       "<Figure size 640x480 with 1 Axes>"
      ]
     },
     "metadata": {},
     "output_type": "display_data"
    }
   ],
   "source": [
    "plt.plot(fpr,tpr,\"b:\",label=\"SGD\")\n",
    "plt.plot(fpr_forest,tpr_forest,label=\"Random Forest\")\n",
    "plt.legend(loc=\"lower right\")\n",
    "plt.xlabel(\"False Positive Rate\")\n",
    "plt.ylabel(\"True Positive Rate\")\n",
    "plt.show()"
   ]
  },
  {
   "cell_type": "code",
   "execution_count": 57,
   "id": "62b125ad-eccf-4dee-a54b-b847461a25df",
   "metadata": {},
   "outputs": [
    {
     "data": {
      "text/plain": [
       "np.float64(0.9984569160691134)"
      ]
     },
     "execution_count": 57,
     "metadata": {},
     "output_type": "execute_result"
    }
   ],
   "source": [
    "#ie. random forest is superior to sgd since the roc curve is closer to the top left corner\n",
    "roc_auc_score(y_train_5,y_scores_forest)"
   ]
  },
  {
   "cell_type": "code",
   "execution_count": 59,
   "id": "01a417ef-973f-4b74-8c82-9e00f69ee4d3",
   "metadata": {},
   "outputs": [],
   "source": [
    "precision_forest,recall_forest,threshold_forest=precision_recall_curve(y_train_5,y_scores_forest)"
   ]
  },
  {
   "cell_type": "raw",
   "id": "b93679ee-b113-4d71-aee5-25f75163a42e",
   "metadata": {},
   "source": []
  },
  {
   "cell_type": "code",
   "execution_count": 60,
   "id": "c1fe70b3-50b2-4f41-853b-9cbed17c2f64",
   "metadata": {},
   "outputs": [
    {
     "data": {
      "text/plain": [
       "array([0.09035   , 0.15529836, 0.21701702, 0.27645138, 0.3368565 ,\n",
       "       0.39356058, 0.44526749, 0.49478309, 0.54322477, 0.58737758,\n",
       "       0.62943511, 0.66695545, 0.69971414, 0.72892383, 0.75545544,\n",
       "       0.77734262, 0.79510022, 0.81480353, 0.83017402, 0.84481394,\n",
       "       0.85746461, 0.87222861, 0.88408939, 0.89422102, 0.90438657,\n",
       "       0.91279473, 0.9202454 , 0.92719221, 0.93370364, 0.93788371,\n",
       "       0.94194722, 0.94714627, 0.95071073, 0.95427509, 0.95696913,\n",
       "       0.95990211, 0.96270352, 0.96626001, 0.96929572, 0.97176015,\n",
       "       0.97430907, 0.97668038, 0.97906793, 0.98148885, 0.98375777,\n",
       "       0.98508065, 0.98597561, 0.98689062, 0.98825227, 0.98943224,\n",
       "       0.9899854 , 0.99055812, 0.99070946, 0.99107143, 0.9918734 ,\n",
       "       0.99244387, 0.99324472, 0.99363057, 0.99379708, 0.99483378,\n",
       "       0.99523052, 0.99587156, 0.99606573, 0.99696049, 0.99716379,\n",
       "       0.99784792, 0.99830056, 0.99827841, 0.99825697, 0.99822695,\n",
       "       0.99819959, 0.99868938, 0.9986631 , 0.99863463, 0.99888424,\n",
       "       0.99914554, 0.99941725, 0.99940476, 0.99969577, 0.99968701,\n",
       "       0.99967877, 0.99966964, 0.99966056, 0.99964702, 1.        ,\n",
       "       1.        , 1.        , 1.        , 1.        , 1.        ,\n",
       "       1.        , 1.        , 1.        , 1.        , 1.        ,\n",
       "       1.        , 1.        , 1.        , 1.        , 1.        ,\n",
       "       1.        , 1.        ])"
      ]
     },
     "execution_count": 60,
     "metadata": {},
     "output_type": "execute_result"
    }
   ],
   "source": [
    "precision_forest"
   ]
  },
  {
   "cell_type": "code",
   "execution_count": 66,
   "id": "b7cf88e0-8501-4265-93c3-bac03ff1cff5",
   "metadata": {},
   "outputs": [
    {
     "data": {
      "text/plain": [
       "np.float64(0.6294351073762838)"
      ]
     },
     "execution_count": 66,
     "metadata": {},
     "output_type": "execute_result"
    }
   ],
   "source": [
    "y_pred_forest=(y_scores_forest>=0.10)\n",
    "precision_score(y_train_5,y_pred_forest)"
   ]
  },
  {
   "cell_type": "code",
   "execution_count": 67,
   "id": "cd8fd473-e8bd-45cb-a71f-d0e619687082",
   "metadata": {},
   "outputs": [
    {
     "data": {
      "text/plain": [
       "np.float64(0.9948349013097214)"
      ]
     },
     "execution_count": 67,
     "metadata": {},
     "output_type": "execute_result"
    }
   ],
   "source": [
    "recall_score(y_train_5,y_pred_forest)"
   ]
  },
  {
   "cell_type": "code",
   "execution_count": 68,
   "id": "36b17402-a2ef-4748-93f6-0d7f8d475608",
   "metadata": {},
   "outputs": [],
   "source": [
    "# here threshold set again has impact on precision and recall scores as obviously it should be\n"
   ]
  },
  {
   "cell_type": "code",
   "execution_count": 69,
   "id": "97e21c4e-1e50-4206-a759-86b3961ef9d1",
   "metadata": {},
   "outputs": [],
   "source": [
    "# so now, ik how to train binary classifiers, choose appropriate metric for the task,evaluate using CV, select precision recall tradeoff that fits the needs, and use roc and roc auc scores to compare various models, for example for the previous example random forest was a better model"
   ]
  },
  {
   "cell_type": "code",
   "execution_count": null,
   "id": "0bf51a35-2282-412a-ba94-7a4bc2d7f7c5",
   "metadata": {},
   "outputs": [],
   "source": []
  },
  {
   "cell_type": "code",
   "execution_count": null,
   "id": "7af81e59-2ac9-42e8-a374-7a3c5947311d",
   "metadata": {},
   "outputs": [],
   "source": []
  },
  {
   "cell_type": "code",
   "execution_count": 70,
   "id": "26ca487c-9bca-4c3b-977d-4193e1274a4a",
   "metadata": {},
   "outputs": [],
   "source": [
    "#MULTICLASS CLASSIFICATION / multinomial classifiers"
   ]
  },
  {
   "cell_type": "code",
   "execution_count": null,
   "id": "b6c64e7f-b225-4ae7-ba63-3d7b0bd1d0ea",
   "metadata": {},
   "outputs": [],
   "source": []
  },
  {
   "cell_type": "code",
   "execution_count": 73,
   "id": "711517bc-bd04-470d-b841-c6cc8b6222c1",
   "metadata": {},
   "outputs": [
    {
     "data": {
      "text/html": [
       "<style>#sk-container-id-2 {\n",
       "  /* Definition of color scheme common for light and dark mode */\n",
       "  --sklearn-color-text: black;\n",
       "  --sklearn-color-line: gray;\n",
       "  /* Definition of color scheme for unfitted estimators */\n",
       "  --sklearn-color-unfitted-level-0: #fff5e6;\n",
       "  --sklearn-color-unfitted-level-1: #f6e4d2;\n",
       "  --sklearn-color-unfitted-level-2: #ffe0b3;\n",
       "  --sklearn-color-unfitted-level-3: chocolate;\n",
       "  /* Definition of color scheme for fitted estimators */\n",
       "  --sklearn-color-fitted-level-0: #f0f8ff;\n",
       "  --sklearn-color-fitted-level-1: #d4ebff;\n",
       "  --sklearn-color-fitted-level-2: #b3dbfd;\n",
       "  --sklearn-color-fitted-level-3: cornflowerblue;\n",
       "\n",
       "  /* Specific color for light theme */\n",
       "  --sklearn-color-text-on-default-background: var(--sg-text-color, var(--theme-code-foreground, var(--jp-content-font-color1, black)));\n",
       "  --sklearn-color-background: var(--sg-background-color, var(--theme-background, var(--jp-layout-color0, white)));\n",
       "  --sklearn-color-border-box: var(--sg-text-color, var(--theme-code-foreground, var(--jp-content-font-color1, black)));\n",
       "  --sklearn-color-icon: #696969;\n",
       "\n",
       "  @media (prefers-color-scheme: dark) {\n",
       "    /* Redefinition of color scheme for dark theme */\n",
       "    --sklearn-color-text-on-default-background: var(--sg-text-color, var(--theme-code-foreground, var(--jp-content-font-color1, white)));\n",
       "    --sklearn-color-background: var(--sg-background-color, var(--theme-background, var(--jp-layout-color0, #111)));\n",
       "    --sklearn-color-border-box: var(--sg-text-color, var(--theme-code-foreground, var(--jp-content-font-color1, white)));\n",
       "    --sklearn-color-icon: #878787;\n",
       "  }\n",
       "}\n",
       "\n",
       "#sk-container-id-2 {\n",
       "  color: var(--sklearn-color-text);\n",
       "}\n",
       "\n",
       "#sk-container-id-2 pre {\n",
       "  padding: 0;\n",
       "}\n",
       "\n",
       "#sk-container-id-2 input.sk-hidden--visually {\n",
       "  border: 0;\n",
       "  clip: rect(1px 1px 1px 1px);\n",
       "  clip: rect(1px, 1px, 1px, 1px);\n",
       "  height: 1px;\n",
       "  margin: -1px;\n",
       "  overflow: hidden;\n",
       "  padding: 0;\n",
       "  position: absolute;\n",
       "  width: 1px;\n",
       "}\n",
       "\n",
       "#sk-container-id-2 div.sk-dashed-wrapped {\n",
       "  border: 1px dashed var(--sklearn-color-line);\n",
       "  margin: 0 0.4em 0.5em 0.4em;\n",
       "  box-sizing: border-box;\n",
       "  padding-bottom: 0.4em;\n",
       "  background-color: var(--sklearn-color-background);\n",
       "}\n",
       "\n",
       "#sk-container-id-2 div.sk-container {\n",
       "  /* jupyter's `normalize.less` sets `[hidden] { display: none; }`\n",
       "     but bootstrap.min.css set `[hidden] { display: none !important; }`\n",
       "     so we also need the `!important` here to be able to override the\n",
       "     default hidden behavior on the sphinx rendered scikit-learn.org.\n",
       "     See: https://github.com/scikit-learn/scikit-learn/issues/21755 */\n",
       "  display: inline-block !important;\n",
       "  position: relative;\n",
       "}\n",
       "\n",
       "#sk-container-id-2 div.sk-text-repr-fallback {\n",
       "  display: none;\n",
       "}\n",
       "\n",
       "div.sk-parallel-item,\n",
       "div.sk-serial,\n",
       "div.sk-item {\n",
       "  /* draw centered vertical line to link estimators */\n",
       "  background-image: linear-gradient(var(--sklearn-color-text-on-default-background), var(--sklearn-color-text-on-default-background));\n",
       "  background-size: 2px 100%;\n",
       "  background-repeat: no-repeat;\n",
       "  background-position: center center;\n",
       "}\n",
       "\n",
       "/* Parallel-specific style estimator block */\n",
       "\n",
       "#sk-container-id-2 div.sk-parallel-item::after {\n",
       "  content: \"\";\n",
       "  width: 100%;\n",
       "  border-bottom: 2px solid var(--sklearn-color-text-on-default-background);\n",
       "  flex-grow: 1;\n",
       "}\n",
       "\n",
       "#sk-container-id-2 div.sk-parallel {\n",
       "  display: flex;\n",
       "  align-items: stretch;\n",
       "  justify-content: center;\n",
       "  background-color: var(--sklearn-color-background);\n",
       "  position: relative;\n",
       "}\n",
       "\n",
       "#sk-container-id-2 div.sk-parallel-item {\n",
       "  display: flex;\n",
       "  flex-direction: column;\n",
       "}\n",
       "\n",
       "#sk-container-id-2 div.sk-parallel-item:first-child::after {\n",
       "  align-self: flex-end;\n",
       "  width: 50%;\n",
       "}\n",
       "\n",
       "#sk-container-id-2 div.sk-parallel-item:last-child::after {\n",
       "  align-self: flex-start;\n",
       "  width: 50%;\n",
       "}\n",
       "\n",
       "#sk-container-id-2 div.sk-parallel-item:only-child::after {\n",
       "  width: 0;\n",
       "}\n",
       "\n",
       "/* Serial-specific style estimator block */\n",
       "\n",
       "#sk-container-id-2 div.sk-serial {\n",
       "  display: flex;\n",
       "  flex-direction: column;\n",
       "  align-items: center;\n",
       "  background-color: var(--sklearn-color-background);\n",
       "  padding-right: 1em;\n",
       "  padding-left: 1em;\n",
       "}\n",
       "\n",
       "\n",
       "/* Toggleable style: style used for estimator/Pipeline/ColumnTransformer box that is\n",
       "clickable and can be expanded/collapsed.\n",
       "- Pipeline and ColumnTransformer use this feature and define the default style\n",
       "- Estimators will overwrite some part of the style using the `sk-estimator` class\n",
       "*/\n",
       "\n",
       "/* Pipeline and ColumnTransformer style (default) */\n",
       "\n",
       "#sk-container-id-2 div.sk-toggleable {\n",
       "  /* Default theme specific background. It is overwritten whether we have a\n",
       "  specific estimator or a Pipeline/ColumnTransformer */\n",
       "  background-color: var(--sklearn-color-background);\n",
       "}\n",
       "\n",
       "/* Toggleable label */\n",
       "#sk-container-id-2 label.sk-toggleable__label {\n",
       "  cursor: pointer;\n",
       "  display: block;\n",
       "  width: 100%;\n",
       "  margin-bottom: 0;\n",
       "  padding: 0.5em;\n",
       "  box-sizing: border-box;\n",
       "  text-align: center;\n",
       "}\n",
       "\n",
       "#sk-container-id-2 label.sk-toggleable__label-arrow:before {\n",
       "  /* Arrow on the left of the label */\n",
       "  content: \"▸\";\n",
       "  float: left;\n",
       "  margin-right: 0.25em;\n",
       "  color: var(--sklearn-color-icon);\n",
       "}\n",
       "\n",
       "#sk-container-id-2 label.sk-toggleable__label-arrow:hover:before {\n",
       "  color: var(--sklearn-color-text);\n",
       "}\n",
       "\n",
       "/* Toggleable content - dropdown */\n",
       "\n",
       "#sk-container-id-2 div.sk-toggleable__content {\n",
       "  max-height: 0;\n",
       "  max-width: 0;\n",
       "  overflow: hidden;\n",
       "  text-align: left;\n",
       "  /* unfitted */\n",
       "  background-color: var(--sklearn-color-unfitted-level-0);\n",
       "}\n",
       "\n",
       "#sk-container-id-2 div.sk-toggleable__content.fitted {\n",
       "  /* fitted */\n",
       "  background-color: var(--sklearn-color-fitted-level-0);\n",
       "}\n",
       "\n",
       "#sk-container-id-2 div.sk-toggleable__content pre {\n",
       "  margin: 0.2em;\n",
       "  border-radius: 0.25em;\n",
       "  color: var(--sklearn-color-text);\n",
       "  /* unfitted */\n",
       "  background-color: var(--sklearn-color-unfitted-level-0);\n",
       "}\n",
       "\n",
       "#sk-container-id-2 div.sk-toggleable__content.fitted pre {\n",
       "  /* unfitted */\n",
       "  background-color: var(--sklearn-color-fitted-level-0);\n",
       "}\n",
       "\n",
       "#sk-container-id-2 input.sk-toggleable__control:checked~div.sk-toggleable__content {\n",
       "  /* Expand drop-down */\n",
       "  max-height: 200px;\n",
       "  max-width: 100%;\n",
       "  overflow: auto;\n",
       "}\n",
       "\n",
       "#sk-container-id-2 input.sk-toggleable__control:checked~label.sk-toggleable__label-arrow:before {\n",
       "  content: \"▾\";\n",
       "}\n",
       "\n",
       "/* Pipeline/ColumnTransformer-specific style */\n",
       "\n",
       "#sk-container-id-2 div.sk-label input.sk-toggleable__control:checked~label.sk-toggleable__label {\n",
       "  color: var(--sklearn-color-text);\n",
       "  background-color: var(--sklearn-color-unfitted-level-2);\n",
       "}\n",
       "\n",
       "#sk-container-id-2 div.sk-label.fitted input.sk-toggleable__control:checked~label.sk-toggleable__label {\n",
       "  background-color: var(--sklearn-color-fitted-level-2);\n",
       "}\n",
       "\n",
       "/* Estimator-specific style */\n",
       "\n",
       "/* Colorize estimator box */\n",
       "#sk-container-id-2 div.sk-estimator input.sk-toggleable__control:checked~label.sk-toggleable__label {\n",
       "  /* unfitted */\n",
       "  background-color: var(--sklearn-color-unfitted-level-2);\n",
       "}\n",
       "\n",
       "#sk-container-id-2 div.sk-estimator.fitted input.sk-toggleable__control:checked~label.sk-toggleable__label {\n",
       "  /* fitted */\n",
       "  background-color: var(--sklearn-color-fitted-level-2);\n",
       "}\n",
       "\n",
       "#sk-container-id-2 div.sk-label label.sk-toggleable__label,\n",
       "#sk-container-id-2 div.sk-label label {\n",
       "  /* The background is the default theme color */\n",
       "  color: var(--sklearn-color-text-on-default-background);\n",
       "}\n",
       "\n",
       "/* On hover, darken the color of the background */\n",
       "#sk-container-id-2 div.sk-label:hover label.sk-toggleable__label {\n",
       "  color: var(--sklearn-color-text);\n",
       "  background-color: var(--sklearn-color-unfitted-level-2);\n",
       "}\n",
       "\n",
       "/* Label box, darken color on hover, fitted */\n",
       "#sk-container-id-2 div.sk-label.fitted:hover label.sk-toggleable__label.fitted {\n",
       "  color: var(--sklearn-color-text);\n",
       "  background-color: var(--sklearn-color-fitted-level-2);\n",
       "}\n",
       "\n",
       "/* Estimator label */\n",
       "\n",
       "#sk-container-id-2 div.sk-label label {\n",
       "  font-family: monospace;\n",
       "  font-weight: bold;\n",
       "  display: inline-block;\n",
       "  line-height: 1.2em;\n",
       "}\n",
       "\n",
       "#sk-container-id-2 div.sk-label-container {\n",
       "  text-align: center;\n",
       "}\n",
       "\n",
       "/* Estimator-specific */\n",
       "#sk-container-id-2 div.sk-estimator {\n",
       "  font-family: monospace;\n",
       "  border: 1px dotted var(--sklearn-color-border-box);\n",
       "  border-radius: 0.25em;\n",
       "  box-sizing: border-box;\n",
       "  margin-bottom: 0.5em;\n",
       "  /* unfitted */\n",
       "  background-color: var(--sklearn-color-unfitted-level-0);\n",
       "}\n",
       "\n",
       "#sk-container-id-2 div.sk-estimator.fitted {\n",
       "  /* fitted */\n",
       "  background-color: var(--sklearn-color-fitted-level-0);\n",
       "}\n",
       "\n",
       "/* on hover */\n",
       "#sk-container-id-2 div.sk-estimator:hover {\n",
       "  /* unfitted */\n",
       "  background-color: var(--sklearn-color-unfitted-level-2);\n",
       "}\n",
       "\n",
       "#sk-container-id-2 div.sk-estimator.fitted:hover {\n",
       "  /* fitted */\n",
       "  background-color: var(--sklearn-color-fitted-level-2);\n",
       "}\n",
       "\n",
       "/* Specification for estimator info (e.g. \"i\" and \"?\") */\n",
       "\n",
       "/* Common style for \"i\" and \"?\" */\n",
       "\n",
       ".sk-estimator-doc-link,\n",
       "a:link.sk-estimator-doc-link,\n",
       "a:visited.sk-estimator-doc-link {\n",
       "  float: right;\n",
       "  font-size: smaller;\n",
       "  line-height: 1em;\n",
       "  font-family: monospace;\n",
       "  background-color: var(--sklearn-color-background);\n",
       "  border-radius: 1em;\n",
       "  height: 1em;\n",
       "  width: 1em;\n",
       "  text-decoration: none !important;\n",
       "  margin-left: 1ex;\n",
       "  /* unfitted */\n",
       "  border: var(--sklearn-color-unfitted-level-1) 1pt solid;\n",
       "  color: var(--sklearn-color-unfitted-level-1);\n",
       "}\n",
       "\n",
       ".sk-estimator-doc-link.fitted,\n",
       "a:link.sk-estimator-doc-link.fitted,\n",
       "a:visited.sk-estimator-doc-link.fitted {\n",
       "  /* fitted */\n",
       "  border: var(--sklearn-color-fitted-level-1) 1pt solid;\n",
       "  color: var(--sklearn-color-fitted-level-1);\n",
       "}\n",
       "\n",
       "/* On hover */\n",
       "div.sk-estimator:hover .sk-estimator-doc-link:hover,\n",
       ".sk-estimator-doc-link:hover,\n",
       "div.sk-label-container:hover .sk-estimator-doc-link:hover,\n",
       ".sk-estimator-doc-link:hover {\n",
       "  /* unfitted */\n",
       "  background-color: var(--sklearn-color-unfitted-level-3);\n",
       "  color: var(--sklearn-color-background);\n",
       "  text-decoration: none;\n",
       "}\n",
       "\n",
       "div.sk-estimator.fitted:hover .sk-estimator-doc-link.fitted:hover,\n",
       ".sk-estimator-doc-link.fitted:hover,\n",
       "div.sk-label-container:hover .sk-estimator-doc-link.fitted:hover,\n",
       ".sk-estimator-doc-link.fitted:hover {\n",
       "  /* fitted */\n",
       "  background-color: var(--sklearn-color-fitted-level-3);\n",
       "  color: var(--sklearn-color-background);\n",
       "  text-decoration: none;\n",
       "}\n",
       "\n",
       "/* Span, style for the box shown on hovering the info icon */\n",
       ".sk-estimator-doc-link span {\n",
       "  display: none;\n",
       "  z-index: 9999;\n",
       "  position: relative;\n",
       "  font-weight: normal;\n",
       "  right: .2ex;\n",
       "  padding: .5ex;\n",
       "  margin: .5ex;\n",
       "  width: min-content;\n",
       "  min-width: 20ex;\n",
       "  max-width: 50ex;\n",
       "  color: var(--sklearn-color-text);\n",
       "  box-shadow: 2pt 2pt 4pt #999;\n",
       "  /* unfitted */\n",
       "  background: var(--sklearn-color-unfitted-level-0);\n",
       "  border: .5pt solid var(--sklearn-color-unfitted-level-3);\n",
       "}\n",
       "\n",
       ".sk-estimator-doc-link.fitted span {\n",
       "  /* fitted */\n",
       "  background: var(--sklearn-color-fitted-level-0);\n",
       "  border: var(--sklearn-color-fitted-level-3);\n",
       "}\n",
       "\n",
       ".sk-estimator-doc-link:hover span {\n",
       "  display: block;\n",
       "}\n",
       "\n",
       "/* \"?\"-specific style due to the `<a>` HTML tag */\n",
       "\n",
       "#sk-container-id-2 a.estimator_doc_link {\n",
       "  float: right;\n",
       "  font-size: 1rem;\n",
       "  line-height: 1em;\n",
       "  font-family: monospace;\n",
       "  background-color: var(--sklearn-color-background);\n",
       "  border-radius: 1rem;\n",
       "  height: 1rem;\n",
       "  width: 1rem;\n",
       "  text-decoration: none;\n",
       "  /* unfitted */\n",
       "  color: var(--sklearn-color-unfitted-level-1);\n",
       "  border: var(--sklearn-color-unfitted-level-1) 1pt solid;\n",
       "}\n",
       "\n",
       "#sk-container-id-2 a.estimator_doc_link.fitted {\n",
       "  /* fitted */\n",
       "  border: var(--sklearn-color-fitted-level-1) 1pt solid;\n",
       "  color: var(--sklearn-color-fitted-level-1);\n",
       "}\n",
       "\n",
       "/* On hover */\n",
       "#sk-container-id-2 a.estimator_doc_link:hover {\n",
       "  /* unfitted */\n",
       "  background-color: var(--sklearn-color-unfitted-level-3);\n",
       "  color: var(--sklearn-color-background);\n",
       "  text-decoration: none;\n",
       "}\n",
       "\n",
       "#sk-container-id-2 a.estimator_doc_link.fitted:hover {\n",
       "  /* fitted */\n",
       "  background-color: var(--sklearn-color-fitted-level-3);\n",
       "}\n",
       "</style><div id=\"sk-container-id-2\" class=\"sk-top-container\"><div class=\"sk-text-repr-fallback\"><pre>SVC()</pre><b>In a Jupyter environment, please rerun this cell to show the HTML representation or trust the notebook. <br />On GitHub, the HTML representation is unable to render, please try loading this page with nbviewer.org.</b></div><div class=\"sk-container\" hidden><div class=\"sk-item\"><div class=\"sk-estimator fitted sk-toggleable\"><input class=\"sk-toggleable__control sk-hidden--visually\" id=\"sk-estimator-id-2\" type=\"checkbox\" checked><label for=\"sk-estimator-id-2\" class=\"sk-toggleable__label fitted sk-toggleable__label-arrow fitted\">&nbsp;&nbsp;SVC<a class=\"sk-estimator-doc-link fitted\" rel=\"noreferrer\" target=\"_blank\" href=\"https://scikit-learn.org/1.5/modules/generated/sklearn.svm.SVC.html\">?<span>Documentation for SVC</span></a><span class=\"sk-estimator-doc-link fitted\">i<span>Fitted</span></span></label><div class=\"sk-toggleable__content fitted\"><pre>SVC()</pre></div> </div></div></div></div>"
      ],
      "text/plain": [
       "SVC()"
      ]
     },
     "execution_count": 73,
     "metadata": {},
     "output_type": "execute_result"
    }
   ],
   "source": [
    "# algorithms like sgd classifier, random forest classfier, and naive bayes classifer are able to do multiclass classification\n",
    "# but eg. logistic regression or svm classifiers aren't binary classifers\n",
    "# can use multiple binary classifers though to perform multiclass classification\n",
    "# eg for digit detection, train 10 binary classifier, one for each class\n",
    "# chose one with the best score for the instance as output, called one vs the rest (OvR) or one vs all strategy\n",
    "\n",
    "# ONE vs ONE strategy: train n*(n-1)/2 classifers, eg 0 or 1 classifer, 9 or 1 classifer, etc \n",
    "# ie, 45 binary classifers for the mnist dataset \n",
    "# good thing is no need to train on all the data rather than the data of the 2 particular classes\n",
    "\n",
    "# some algo eg svm scales poorly with size of the training set, ie, OvO is preferred, since it is faster to train many classifier on small sets vs few on large training sets\n",
    "# for most binary classification algos, OvR is preferred\n",
    "\n",
    "# again our goated scikit learn, it detects when we are trying binary classification and so it automatically chooses OvR or OvO\n",
    "#eg\n",
    "from sklearn.svm import SVC\n",
    "svm_clf=SVC()\n",
    "svm_clf.fit(X_train,y_train)\n"
   ]
  },
  {
   "cell_type": "code",
   "execution_count": 75,
   "id": "f7050b29-215a-42f2-9831-0783df7c1810",
   "metadata": {},
   "outputs": [
    {
     "data": {
      "text/plain": [
       "array([5], dtype=uint8)"
      ]
     },
     "execution_count": 75,
     "metadata": {},
     "output_type": "execute_result"
    }
   ],
   "source": [
    "svm_clf.predict(some_digit_df)"
   ]
  },
  {
   "cell_type": "code",
   "execution_count": null,
   "id": "18e5953d-d987-4ca2-aac9-fba9c6907b8f",
   "metadata": {},
   "outputs": [],
   "source": []
  }
 ],
 "metadata": {
  "kernelspec": {
   "display_name": "Python 3 (ipykernel)",
   "language": "python",
   "name": "python3"
  },
  "language_info": {
   "codemirror_mode": {
    "name": "ipython",
    "version": 3
   },
   "file_extension": ".py",
   "mimetype": "text/x-python",
   "name": "python",
   "nbconvert_exporter": "python",
   "pygments_lexer": "ipython3",
   "version": "3.12.6"
  }
 },
 "nbformat": 4,
 "nbformat_minor": 5
}
